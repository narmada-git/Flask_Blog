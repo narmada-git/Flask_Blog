{
 "cells": [
  {
   "cell_type": "code",
   "execution_count": 1,
   "id": "e9e96776",
   "metadata": {},
   "outputs": [],
   "source": [
    "import flask"
   ]
  },
  {
   "cell_type": "code",
   "execution_count": null,
   "id": "1a89944d",
   "metadata": {},
   "outputs": [],
   "source": []
  },
  {
   "cell_type": "code",
   "execution_count": 3,
   "id": "802c8f24",
   "metadata": {},
   "outputs": [
    {
     "data": {
      "text/plain": [
       "[User('CoreyMS', 'CoreyMSchafer@gmail.com', 'default.jpg'),\n",
       " User('jhu', 'uuj@u.com', 'default.jpg'),\n",
       " User('jnj', 'jn@j.com', 'default.jpg'),\n",
       " User('narm', 'narm@gmail.com', 'default.jpg'),\n",
       " User('jnj3', 'jnj@njn.com', 'default.jpg'),\n",
       " User('narmada', 'narmada@gmail.com', 'default.jpg'),\n",
       " User('narmada11', 'narmada@blog.com', 'default.jpg')]"
      ]
     },
     "execution_count": 3,
     "metadata": {},
     "output_type": "execute_result"
    }
   ],
   "source": [
    "from flaskblog.models import User,Post\n",
    "User.query.all()"
   ]
  },
  {
   "cell_type": "code",
   "execution_count": 16,
   "id": "eb317576",
   "metadata": {},
   "outputs": [
    {
     "name": "stdout",
     "output_type": "stream",
     "text": [
      "1\n",
      "2\n",
      "3\n"
     ]
    }
   ],
   "source": [
    "posts = Post.query.paginate(page=1, per_page=2)\n",
    "for page in posts.iter_pages():\n",
    "    print(page)"
   ]
  },
  {
   "cell_type": "code",
   "execution_count": 14,
   "id": "c9171ddf",
   "metadata": {},
   "outputs": [
    {
     "name": "stdout",
     "output_type": "stream",
     "text": [
      "1\n",
      "2\n",
      "3\n"
     ]
    }
   ],
   "source": [
    "    for page in posts.iter_pages():\n",
    "        print(page)"
   ]
  },
  {
   "cell_type": "code",
   "execution_count": 3,
   "id": "2d3979eb",
   "metadata": {},
   "outputs": [
    {
     "data": {
      "text/plain": [
       "sqlalchemy.sql.schema.Column"
      ]
     },
     "execution_count": 3,
     "metadata": {},
     "output_type": "execute_result"
    }
   ],
   "source": [
    "from flaskblog import db\n",
    "db.Column()"
   ]
  },
  {
   "cell_type": "code",
   "execution_count": 1,
   "id": "41b7ca8e",
   "metadata": {
    "scrolled": false
   },
   "outputs": [
    {
     "name": "stderr",
     "output_type": "stream",
     "text": [
      "C:\\Users\\pnarm\\anaconda3\\lib\\site-packages\\flask_sqlalchemy\\__init__.py:872: FSADeprecationWarning: SQLALCHEMY_TRACK_MODIFICATIONS adds significant overhead and will be disabled by default in the future.  Set it to True or False to suppress this warning.\n",
      "  warnings.warn(FSADeprecationWarning(\n"
     ]
    },
    {
     "data": {
      "text/plain": [
       "[User('CoreyMS', 'CoreyMSchafer@gmail.com', 'default.jpg'),\n",
       " User('jhu', 'uuj@u.com', 'default.jpg'),\n",
       " User('jnj', 'jn@j.com', 'default.jpg'),\n",
       " User('narm', 'narm@gmail.com', 'default.jpg')]"
      ]
     },
     "execution_count": 1,
     "metadata": {},
     "output_type": "execute_result"
    }
   ],
   "source": [
    "from flaskblog.models import User\n",
    "from flaskblog import db\n",
    "import os\n",
    "# user_1 = User(username='shravan', email='shravan@shravan.com', password='password')\n",
    "# db.session.add(user_1)\n",
    "# db.session.commit()\n",
    "User.query.all()\n",
    "\n",
    "\n",
    "# BASE_DIR = os.path.dirname(os.path.abspath(__file__))\n",
    "# db_path = os.path.join(BASE_DIR, \"C:\\Users\\pnarm\\Documents\\Flask_Blog\\flaskblog\\site.db\")\n",
    "# with sqlite3.connect(db_path) as db:\n"
   ]
  }
 ],
 "metadata": {
  "kernelspec": {
   "display_name": "Python 3",
   "language": "python",
   "name": "python3"
  },
  "language_info": {
   "codemirror_mode": {
    "name": "ipython",
    "version": 3
   },
   "file_extension": ".py",
   "mimetype": "text/x-python",
   "name": "python",
   "nbconvert_exporter": "python",
   "pygments_lexer": "ipython3",
   "version": "3.8.8"
  }
 },
 "nbformat": 4,
 "nbformat_minor": 5
}
